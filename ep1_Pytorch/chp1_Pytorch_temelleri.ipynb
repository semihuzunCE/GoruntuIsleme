{
 "cells": [
  {
   "cell_type": "code",
   "execution_count": 63,
   "metadata": {},
   "outputs": [],
   "source": [
    "import torch\n",
    "import numpy as np"
   ]
  },
  {
   "cell_type": "code",
   "execution_count": 64,
   "metadata": {},
   "outputs": [],
   "source": [
    "array=[[1,2,3],[1,2,3]] #liste oluşturuyoruz"
   ]
  },
  {
   "cell_type": "code",
   "execution_count": 65,
   "metadata": {},
   "outputs": [],
   "source": [
    "numpy_array=np.array(array) #listemizi numpy arrayine dönüştürüyoruz"
   ]
  },
  {
   "cell_type": "code",
   "execution_count": 66,
   "metadata": {},
   "outputs": [
    {
     "data": {
      "text/plain": [
       "torch.Tensor"
      ]
     },
     "execution_count": 66,
     "metadata": {},
     "output_type": "execute_result"
    }
   ],
   "source": [
    "torch_tensor=torch.Tensor(array) #listemizi pytorch tensorüne çeviriyoruz\n",
    "type(torch_tensor)"
   ]
  },
  {
   "cell_type": "code",
   "execution_count": 67,
   "metadata": {},
   "outputs": [
    {
     "name": "stdout",
     "output_type": "stream",
     "text": [
      "tensor([[1., 2., 3.],\n",
      "        [1., 2., 3.]])\n",
      "boyut: torch.Size([2, 3])\n"
     ]
    }
   ],
   "source": [
    "print(torch_tensor)\n",
    "print(\"boyut:\",torch_tensor.size())"
   ]
  },
  {
   "cell_type": "code",
   "execution_count": 68,
   "metadata": {},
   "outputs": [
    {
     "name": "stdout",
     "output_type": "stream",
     "text": [
      "tensor([[1, 2, 3],\n",
      "        [1, 2, 3]], dtype=torch.int32)\n",
      "boyut: torch.Size([2, 3])\n"
     ]
    }
   ],
   "source": [
    "torch_tensor=torch.from_numpy(numpy_array) #numpy arrayini pytorch tensorüne cevirme\n",
    "print(torch_tensor)\n",
    "print(\"boyut:\",torch_tensor.size())"
   ]
  },
  {
   "cell_type": "code",
   "execution_count": 69,
   "metadata": {},
   "outputs": [
    {
     "data": {
      "text/plain": [
       "tensor([[0., 0., 0., 0., 0.],\n",
       "        [0., 0., 0., 0., 0.],\n",
       "        [0., 0., 0., 0., 0.],\n",
       "        [0., 0., 0., 0., 0.],\n",
       "        [0., 0., 0., 0., 0.]])"
      ]
     },
     "execution_count": 69,
     "metadata": {},
     "output_type": "execute_result"
    }
   ],
   "source": [
    "torch.ones((5,5)) #np gibi 1 lerden oluşan matris oluşturma\n",
    "torch.zeros((5,5))"
   ]
  },
  {
   "cell_type": "code",
   "execution_count": 70,
   "metadata": {},
   "outputs": [
    {
     "data": {
      "text/plain": [
       "tensor([[0.1319, 0.1374, 0.4639, 0.6044, 0.9310],\n",
       "        [0.1320, 0.0483, 0.0272, 0.4825, 0.2089],\n",
       "        [0.0801, 0.5695, 0.2792, 0.6079, 0.0613],\n",
       "        [0.3502, 0.3700, 0.6009, 0.9051, 0.7174],\n",
       "        [0.6498, 0.9624, 0.4966, 0.0352, 0.5223]])"
      ]
     },
     "execution_count": 70,
     "metadata": {},
     "output_type": "execute_result"
    }
   ],
   "source": [
    "torch.rand(5,5)# 5 e 5 0-1 arasından sayılardan oluşan tensor\n"
   ]
  },
  {
   "cell_type": "code",
   "execution_count": 71,
   "metadata": {},
   "outputs": [
    {
     "name": "stdout",
     "output_type": "stream",
     "text": [
      "tensor([[0.1319, 0.1374, 0.4639, 0.6044, 0.9310],\n",
      "        [0.1320, 0.0483, 0.0272, 0.4825, 0.2089],\n",
      "        [0.0801, 0.5695, 0.2792, 0.6079, 0.0613],\n",
      "        [0.3502, 0.3700, 0.6009, 0.9051, 0.7174],\n",
      "        [0.6498, 0.9624, 0.4966, 0.0352, 0.5223]])\n"
     ]
    }
   ],
   "source": [
    "float_tensor=torch.FloatTensor(5,3)\n",
    "print(float_tensor)"
   ]
  },
  {
   "cell_type": "code",
   "execution_count": null,
   "metadata": {},
   "outputs": [],
   "source": []
  }
 ],
 "metadata": {
  "interpreter": {
   "hash": "6890cd249af4e4ffbb6e94abfb53100042eb61c81d00e1f1ac790c73285b1fdf"
  },
  "kernelspec": {
   "display_name": "Python 3.10.4 64-bit",
   "language": "python",
   "name": "python3"
  },
  "language_info": {
   "codemirror_mode": {
    "name": "ipython",
    "version": 3
   },
   "file_extension": ".py",
   "mimetype": "text/x-python",
   "name": "python",
   "nbconvert_exporter": "python",
   "pygments_lexer": "ipython3",
   "version": "3.10.4"
  },
  "orig_nbformat": 4
 },
 "nbformat": 4,
 "nbformat_minor": 2
}
